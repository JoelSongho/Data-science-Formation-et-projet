{
 "cells": [
  {
   "cell_type": "markdown",
   "metadata": {},
   "source": [
    "# 📘 Semaine 1 – Python pour la Data Science\n",
    "\n",
    "**Jour 1 : Bases de Python & Mini-projet Nettoyage CSV**\n",
    "\n",
    "Bienvenue dans ta première séance pratique !\n",
    "\n",
    "## 🎯 Objectifs du jour :\n",
    "- Revoir les types et structures de données en Python\n",
    "- Manipuler des fichiers `.csv`\n",
    "- Écrire des fonctions simples\n",
    "- Lancer ton premier mini-projet Data"
   ]
  },
  {
   "cell_type": "code",
   "execution_count": 6,
   "metadata": {},
   "outputs": [
    {
     "name": "stdout",
     "output_type": "stream",
     "text": [
      "Laptop\n",
      "Souris\n",
      "Clavier\n",
      "Nombre de produits: 3\n",
      "cilent: {'nom': 'Jean', 'ville': 'Douala', 'fidelite': True, 'email': 'songhojoel3@gmail.com'}\n"
     ]
    }
   ],
   "source": [
    "# ✅ EXO 1 – Types & Variables\n",
    "produits = ['Laptop', 'Souris', 'Clavier']  # liste\n",
    "client = {'nom': 'Jean', 'ville': 'Douala', 'fidelite': True}  # dictionnaire\n",
    "\n",
    "# Affiche chaque élément de la liste\n",
    "for p in produits:\n",
    "    print(p)\n",
    "    \n",
    "# ➕ Modifie le dictionnaire client (ajoute un champ 'email')\n",
    "client['email'] = 'songhojoel3@gmail.com'\n",
    "\n",
    "# ➕ Affiche la longueur de la liste produits\n",
    "print(\"Nombre de produits:\",len(produits))\n",
    "\n",
    "#afficher le dictionnaire client\n",
    "print(\"cilent:\",client)"
   ]
  },
  {
   "cell_type": "code",
   "execution_count": 19,
   "metadata": {},
   "outputs": [
    {
     "name": "stdout",
     "output_type": "stream",
     "text": [
      "le total de notre panier est : 79998\n",
      "Livraison gratuite\n"
     ]
    }
   ],
   "source": [
    "# ✅ EXO 2 – Conditions et Boucles\n",
    "panier = [25000, 14999, 39999]  # prix des produits en FCFA\n",
    "\n",
    "# Calcule la somme totale\n",
    "total = sum(panier)\n",
    "print(\"le total de notre panier est :\", total)\n",
    "\n",
    "# Si total > 50000, afficher \"Livraison gratuite !\"\n",
    "if total> 50000 :\n",
    "    print(\"Livraison gratuite\")\n",
    "# Sinon, afficher \"Frais de livraison : 2000 FCFA\"\n",
    "else:\n",
    "        print(\"Frais de livraison : 2000 Fcfa\")\n",
    "    "
   ]
  },
  {
   "cell_type": "code",
   "execution_count": 27,
   "metadata": {},
   "outputs": [
    {
     "data": {
      "text/plain": [
       "('le total de votre panier est:', 79998, 'Fcfa')"
      ]
     },
     "execution_count": 27,
     "metadata": {},
     "output_type": "execute_result"
    }
   ],
   "source": [
    "# ✅ EXO 3 – Fonctions\n",
    "def calculer_total(panier):\n",
    "    \n",
    "    total = sum(panier)\n",
    "    if total>50000:\n",
    "        return'le total de votre panier est:',total, 'Fcfa'\n",
    "    else:\n",
    "        return'la livraison coutera 5% du prix total d achat '\n",
    "    pass  # complète cette fonction pour retourner le prix max\n",
    "\n",
    "\n",
    "# Appelle la fonction sur le panier\n",
    "panier=[25000,14999,39999]\n",
    "calculer_total(panier)"
   ]
  },
  {
   "cell_type": "code",
   "execution_count": 36,
   "metadata": {},
   "outputs": [
    {
     "name": "stdout",
     "output_type": "stream",
     "text": [
      "Fichier client csv ecrit avec success\n",
      "\n",
      " Contnu du fichier clients.csv:\n",
      "{'Nom': 'Alice', 'Ville': 'Douala', 'Fidelite': 'True'}\n",
      "{'Nom': 'Bob', 'Ville': 'Dschang', 'Fidelite': 'False'}\n",
      "{'Nom': 'carla', 'Ville': 'Yaounde', 'Fidelite': 'True'}\n"
     ]
    }
   ],
   "source": [
    "# ✅ EXO 4 – Lire et écrire un fichier CSV simple\n",
    "import csv\n",
    "\n",
    "# Liste de donnees a ecrire\n",
    "clients = [{'Nom': 'Alice','Ville':'Douala','Fidelite':True},\n",
    "           {'Nom': 'Bob','Ville':'Dschang','Fidelite':False},\n",
    "           {'Nom': 'carla','Ville':'Yaounde','Fidelite':True}\n",
    "          ]\n",
    "# Ecriture dans un fichier csv\n",
    "with open('clients.csv', mode='w', newline='',encoding ='utf-8') as fichier:\n",
    "    champs = ['Nom','Ville','Fidelite']\n",
    "    writer = csv.DictWriter(fichier, fieldnames=champs)\n",
    "    \n",
    "    writer.writeheader() # Ecrire l'entree\n",
    "    for client in clients:\n",
    "        writer.writerow(client)\n",
    "print(\"Fichier client csv ecrit avec success\")\n",
    "\n",
    "#Lecture du fichier csv\n",
    "with open('clients.csv', mode='r',encoding = 'utf-8') as fichier:\n",
    "    reader = csv.DictReader(fichier)\n",
    "    \n",
    "    print(\"\\n Contnu du fichier clients.csv:\")\n",
    "    for ligne in reader:\n",
    "        print(dict(ligne))\n",
    "\n",
    "# ➕ Crée un nouveau fichier avec les données modifiées\n",
    "# ➕ Supprime les lignes vides si nécessaire"
   ]
  },
  {
   "cell_type": "markdown",
   "metadata": {},
   "source": [
    "## 🛠 Mini-Projet – Nettoyeur CSV (à faire d'ici dimanche)\n",
    "**Objectif** : écrire un script qui nettoie un fichier CSV (lignes vides, types mal formatés, etc.)\n",
    "\n",
    "**Instructions** :\n",
    "1. Télécharger le dataset [Superstore.csv sur Kaggle](https://www.kaggle.com/datasets/vivek468/superstore-dataset-final)\n",
    "2. Lire les données avec `pandas`\n",
    "3. Identifier les colonnes avec valeurs manquantes\n",
    "4. Nettoyer les données (supprimer ou remplacer les NA, corriger types)\n",
    "5. Sauvegarder un nouveau fichier `superstore_nettoye.csv`\n",
    "\n",
    "**Bonus** : visualise la proportion de valeurs manquantes avec `matplotlib` ou `seaborn`"
   ]
  },
  {
   "cell_type": "code",
   "execution_count": 9,
   "metadata": {},
   "outputs": [
    {
     "data": {
      "text/html": [
       "<div>\n",
       "<style scoped>\n",
       "    .dataframe tbody tr th:only-of-type {\n",
       "        vertical-align: middle;\n",
       "    }\n",
       "\n",
       "    .dataframe tbody tr th {\n",
       "        vertical-align: top;\n",
       "    }\n",
       "\n",
       "    .dataframe thead th {\n",
       "        text-align: right;\n",
       "    }\n",
       "</style>\n",
       "<table border=\"1\" class=\"dataframe\">\n",
       "  <thead>\n",
       "    <tr style=\"text-align: right;\">\n",
       "      <th></th>\n",
       "      <th>Row ID</th>\n",
       "      <th>Order ID</th>\n",
       "      <th>Order Date</th>\n",
       "      <th>Ship Date</th>\n",
       "      <th>Ship Mode</th>\n",
       "      <th>Customer ID</th>\n",
       "      <th>Customer Name</th>\n",
       "      <th>Segment</th>\n",
       "      <th>Country</th>\n",
       "      <th>City</th>\n",
       "      <th>...</th>\n",
       "      <th>Postal Code</th>\n",
       "      <th>Region</th>\n",
       "      <th>Product ID</th>\n",
       "      <th>Category</th>\n",
       "      <th>Sub-Category</th>\n",
       "      <th>Product Name</th>\n",
       "      <th>Sales</th>\n",
       "      <th>Quantity</th>\n",
       "      <th>Discount</th>\n",
       "      <th>Profit</th>\n",
       "    </tr>\n",
       "  </thead>\n",
       "  <tbody>\n",
       "    <tr>\n",
       "      <th>0</th>\n",
       "      <td>1</td>\n",
       "      <td>CA-2016-152156</td>\n",
       "      <td>11/8/2016</td>\n",
       "      <td>11/11/2016</td>\n",
       "      <td>Second Class</td>\n",
       "      <td>CG-12520</td>\n",
       "      <td>Claire Gute</td>\n",
       "      <td>Consumer</td>\n",
       "      <td>United States</td>\n",
       "      <td>Henderson</td>\n",
       "      <td>...</td>\n",
       "      <td>42420</td>\n",
       "      <td>South</td>\n",
       "      <td>FUR-BO-10001798</td>\n",
       "      <td>Furniture</td>\n",
       "      <td>Bookcases</td>\n",
       "      <td>Bush Somerset Collection Bookcase</td>\n",
       "      <td>261.9600</td>\n",
       "      <td>2</td>\n",
       "      <td>0.00</td>\n",
       "      <td>41.9136</td>\n",
       "    </tr>\n",
       "    <tr>\n",
       "      <th>1</th>\n",
       "      <td>2</td>\n",
       "      <td>CA-2016-152156</td>\n",
       "      <td>11/8/2016</td>\n",
       "      <td>11/11/2016</td>\n",
       "      <td>Second Class</td>\n",
       "      <td>CG-12520</td>\n",
       "      <td>Claire Gute</td>\n",
       "      <td>Consumer</td>\n",
       "      <td>United States</td>\n",
       "      <td>Henderson</td>\n",
       "      <td>...</td>\n",
       "      <td>42420</td>\n",
       "      <td>South</td>\n",
       "      <td>FUR-CH-10000454</td>\n",
       "      <td>Furniture</td>\n",
       "      <td>Chairs</td>\n",
       "      <td>Hon Deluxe Fabric Upholstered Stacking Chairs,...</td>\n",
       "      <td>731.9400</td>\n",
       "      <td>3</td>\n",
       "      <td>0.00</td>\n",
       "      <td>219.5820</td>\n",
       "    </tr>\n",
       "    <tr>\n",
       "      <th>2</th>\n",
       "      <td>3</td>\n",
       "      <td>CA-2016-138688</td>\n",
       "      <td>6/12/2016</td>\n",
       "      <td>6/16/2016</td>\n",
       "      <td>Second Class</td>\n",
       "      <td>DV-13045</td>\n",
       "      <td>Darrin Van Huff</td>\n",
       "      <td>Corporate</td>\n",
       "      <td>United States</td>\n",
       "      <td>Los Angeles</td>\n",
       "      <td>...</td>\n",
       "      <td>90036</td>\n",
       "      <td>West</td>\n",
       "      <td>OFF-LA-10000240</td>\n",
       "      <td>Office Supplies</td>\n",
       "      <td>Labels</td>\n",
       "      <td>Self-Adhesive Address Labels for Typewriters b...</td>\n",
       "      <td>14.6200</td>\n",
       "      <td>2</td>\n",
       "      <td>0.00</td>\n",
       "      <td>6.8714</td>\n",
       "    </tr>\n",
       "    <tr>\n",
       "      <th>3</th>\n",
       "      <td>4</td>\n",
       "      <td>US-2015-108966</td>\n",
       "      <td>10/11/2015</td>\n",
       "      <td>10/18/2015</td>\n",
       "      <td>Standard Class</td>\n",
       "      <td>SO-20335</td>\n",
       "      <td>Sean O'Donnell</td>\n",
       "      <td>Consumer</td>\n",
       "      <td>United States</td>\n",
       "      <td>Fort Lauderdale</td>\n",
       "      <td>...</td>\n",
       "      <td>33311</td>\n",
       "      <td>South</td>\n",
       "      <td>FUR-TA-10000577</td>\n",
       "      <td>Furniture</td>\n",
       "      <td>Tables</td>\n",
       "      <td>Bretford CR4500 Series Slim Rectangular Table</td>\n",
       "      <td>957.5775</td>\n",
       "      <td>5</td>\n",
       "      <td>0.45</td>\n",
       "      <td>-383.0310</td>\n",
       "    </tr>\n",
       "    <tr>\n",
       "      <th>4</th>\n",
       "      <td>5</td>\n",
       "      <td>US-2015-108966</td>\n",
       "      <td>10/11/2015</td>\n",
       "      <td>10/18/2015</td>\n",
       "      <td>Standard Class</td>\n",
       "      <td>SO-20335</td>\n",
       "      <td>Sean O'Donnell</td>\n",
       "      <td>Consumer</td>\n",
       "      <td>United States</td>\n",
       "      <td>Fort Lauderdale</td>\n",
       "      <td>...</td>\n",
       "      <td>33311</td>\n",
       "      <td>South</td>\n",
       "      <td>OFF-ST-10000760</td>\n",
       "      <td>Office Supplies</td>\n",
       "      <td>Storage</td>\n",
       "      <td>Eldon Fold 'N Roll Cart System</td>\n",
       "      <td>22.3680</td>\n",
       "      <td>2</td>\n",
       "      <td>0.20</td>\n",
       "      <td>2.5164</td>\n",
       "    </tr>\n",
       "  </tbody>\n",
       "</table>\n",
       "<p>5 rows × 21 columns</p>\n",
       "</div>"
      ],
      "text/plain": [
       "   Row ID        Order ID  Order Date   Ship Date       Ship Mode Customer ID  \\\n",
       "0       1  CA-2016-152156   11/8/2016  11/11/2016    Second Class    CG-12520   \n",
       "1       2  CA-2016-152156   11/8/2016  11/11/2016    Second Class    CG-12520   \n",
       "2       3  CA-2016-138688   6/12/2016   6/16/2016    Second Class    DV-13045   \n",
       "3       4  US-2015-108966  10/11/2015  10/18/2015  Standard Class    SO-20335   \n",
       "4       5  US-2015-108966  10/11/2015  10/18/2015  Standard Class    SO-20335   \n",
       "\n",
       "     Customer Name    Segment        Country             City  ...  \\\n",
       "0      Claire Gute   Consumer  United States        Henderson  ...   \n",
       "1      Claire Gute   Consumer  United States        Henderson  ...   \n",
       "2  Darrin Van Huff  Corporate  United States      Los Angeles  ...   \n",
       "3   Sean O'Donnell   Consumer  United States  Fort Lauderdale  ...   \n",
       "4   Sean O'Donnell   Consumer  United States  Fort Lauderdale  ...   \n",
       "\n",
       "  Postal Code  Region       Product ID         Category Sub-Category  \\\n",
       "0       42420   South  FUR-BO-10001798        Furniture    Bookcases   \n",
       "1       42420   South  FUR-CH-10000454        Furniture       Chairs   \n",
       "2       90036    West  OFF-LA-10000240  Office Supplies       Labels   \n",
       "3       33311   South  FUR-TA-10000577        Furniture       Tables   \n",
       "4       33311   South  OFF-ST-10000760  Office Supplies      Storage   \n",
       "\n",
       "                                        Product Name     Sales  Quantity  \\\n",
       "0                  Bush Somerset Collection Bookcase  261.9600         2   \n",
       "1  Hon Deluxe Fabric Upholstered Stacking Chairs,...  731.9400         3   \n",
       "2  Self-Adhesive Address Labels for Typewriters b...   14.6200         2   \n",
       "3      Bretford CR4500 Series Slim Rectangular Table  957.5775         5   \n",
       "4                     Eldon Fold 'N Roll Cart System   22.3680         2   \n",
       "\n",
       "   Discount    Profit  \n",
       "0      0.00   41.9136  \n",
       "1      0.00  219.5820  \n",
       "2      0.00    6.8714  \n",
       "3      0.45 -383.0310  \n",
       "4      0.20    2.5164  \n",
       "\n",
       "[5 rows x 21 columns]"
      ]
     },
     "execution_count": 9,
     "metadata": {},
     "output_type": "execute_result"
    }
   ],
   "source": [
    "import pandas as pd\n",
    "\n",
    "df = pd.read_csv(\"netoyage.csv\", encoding='cp1252')\n",
    "df.head()"
   ]
  },
  {
   "cell_type": "code",
   "execution_count": 22,
   "metadata": {},
   "outputs": [
    {
     "name": "stdout",
     "output_type": "stream",
     "text": [
      "les categorie des produits: Office Supplies    6026\n",
      "Furniture          2121\n",
      "Technology         1847\n",
      "Name: Category, dtype: int64\n",
      "vente total des villes: City\n",
      "New York City    256368.161\n",
      "Los Angeles      175851.341\n",
      "Seattle          119540.742\n",
      "San Francisco    112669.092\n",
      "Philadelphia     109077.013\n",
      "                    ...    \n",
      "Ormond Beach          2.808\n",
      "Pensacola             2.214\n",
      "Jupiter               2.064\n",
      "Elyria                1.824\n",
      "Abilene               1.392\n",
      "Name: Sales, Length: 531, dtype: float64\n",
      "Category\n",
      "Furniture           18451.2728\n",
      "Office Supplies    122490.8008\n",
      "Technology         145454.9481\n",
      "Name: Profit, dtype: float64\n",
      "Staple envelope            48\n",
      "Staples                    46\n",
      "Easy-staple paper          46\n",
      "Avery Non-Stick Binders    20\n",
      "Staples in misc. colors    19\n",
      "Name: Product Name, dtype: int64\n"
     ]
    }
   ],
   "source": [
    "#afficher les categorie des produits\n",
    "print(\"les categorie des produits:\",df['Category'].value_counts())\n",
    "\n",
    "#vente total des villes\n",
    "print(\"vente total des villes:\",df.groupby('City')\n",
    "['Sales'].sum().sort_values(ascending=False))\n",
    "\n",
    "#benefice par categorie\n",
    "print(df.groupby('Category')['Profit'].sum())\n",
    "\n",
    "#Produit le plus vendu\n",
    "print(df['Product Name'].value_counts().head(5))"
   ]
  },
  {
   "cell_type": "code",
   "execution_count": 25,
   "metadata": {},
   "outputs": [
    {
     "data": {
      "image/png": "[encoded data removed]",
      "text/plain": [
       "<Figure size 432x288 with 1 Axes>"
      ]
     },
     "metadata": {
      "needs_background": "light"
     },
     "output_type": "display_data"
    }
   ],
   "source": [
    "import matplotlib.pyplot as plt\n",
    "\n",
    "df.groupby('Category')['Sales'].sum().plot(kind='bar',title='Vente par categorie')\n",
    "plt.show()"
   ]
  },
  {
   "cell_type": "code",
   "execution_count": 28,
   "metadata": {},
   "outputs": [
    {
     "name": "stdout",
     "output_type": "stream",
     "text": [
      "Nombre de ligne : 9994\n",
      "Nombre de colonne : 21\n"
     ]
    },
    {
     "data": {
      "text/plain": [
       "Row ID             int64\n",
       "Order ID          object\n",
       "Order Date        object\n",
       "Ship Date         object\n",
       "Ship Mode         object\n",
       "Customer ID       object\n",
       "Customer Name     object\n",
       "Segment           object\n",
       "Country           object\n",
       "City              object\n",
       "State             object\n",
       "Postal Code        int64\n",
       "Region            object\n",
       "Product ID        object\n",
       "Category          object\n",
       "Sub-Category      object\n",
       "Product Name      object\n",
       "Sales            float64\n",
       "Quantity           int64\n",
       "Discount         float64\n",
       "Profit           float64\n",
       "dtype: object"
      ]
     },
     "execution_count": 28,
     "metadata": {},
     "output_type": "execute_result"
    }
   ],
   "source": [
    "#Dimension du tableau\n",
    "print(\"Nombre de ligne :\",df.shape[0])\n",
    "print(\"Nombre de colonne :\",df.shape[1])\n",
    "\n",
    "#Type de donnees\n",
    "df.dtypes"
   ]
  },
  {
   "cell_type": "code",
   "execution_count": 35,
   "metadata": {},
   "outputs": [],
   "source": [
    "#Verifier les valeurs manquante\n",
    "df.isnull().sum()\n",
    "\n",
    "#Suppression des doublons si besoin\n",
    "df.drop_duplicates(inplace=True)"
   ]
  },
  {
   "cell_type": "code",
   "execution_count": 36,
   "metadata": {},
   "outputs": [
    {
     "data": {
      "image/png": "[encoded data removed]",
      "text/plain": [
       "<Figure size 432x288 with 1 Axes>"
      ]
     },
     "metadata": {
      "needs_background": "light"
     },
     "output_type": "display_data"
    }
   ],
   "source": [
    "import matplotlib.pyplot as plt\n",
    "\n",
    "df.groupby('Category')['Sales'].sum().plot(kind='bar',title='Vente par categorie')\n",
    "plt.ylabel(\"Ventes par categorie\")\n",
    "plt.xlabel(\"Categorie\")\n",
    "plt.show()"
   ]
  },
  {
   "cell_type": "markdown",
   "metadata": {},
   "source": [
    "# Mini projet guide: Analyse des ventes et rentabiliter"
   ]
  },
  {
   "cell_type": "raw",
   "metadata": {},
   "source": [
    "Chargement et netoyage des donnees"
   ]
  },
  {
   "cell_type": "code",
   "execution_count": 40,
   "metadata": {},
   "outputs": [
    {
     "name": "stdout",
     "output_type": "stream",
     "text": [
      "Row ID           0\n",
      "Order ID         0\n",
      "Order Date       0\n",
      "Ship Date        0\n",
      "Ship Mode        0\n",
      "Customer ID      0\n",
      "Customer Name    0\n",
      "Segment          0\n",
      "Country          0\n",
      "City             0\n",
      "State            0\n",
      "Postal Code      0\n",
      "Region           0\n",
      "Product ID       0\n",
      "Category         0\n",
      "Sub-Category     0\n",
      "Product Name     0\n",
      "Sales            0\n",
      "Quantity         0\n",
      "Discount         0\n",
      "Profit           0\n",
      "dtype: int64\n"
     ]
    }
   ],
   "source": [
    "import pandas as pd\n",
    "\n",
    "#chargement\n",
    "df = pd.read_csv(\"netoyage.csv\", encoding=\"cp1252\")\n",
    "\n",
    "#netoyage des colonnes\n",
    "df.columns = df.columns.str.strip()\n",
    "\n",
    "#surppression des doublons\n",
    "df.drop_duplicates(inplace=True)\n",
    "\n",
    "#Verifier les valeur manquantes\n",
    "print(df.isnull().sum())"
   ]
  },
  {
   "cell_type": "code",
   "execution_count": 42,
   "metadata": {},
   "outputs": [
    {
     "name": "stdout",
     "output_type": "stream",
     "text": [
      "Dimenssion: (9994, 21)\n",
      "\n",
      "Apercu des donnees\n",
      "<bound method NDFrame.head of       Row ID        Order ID  Order Date   Ship Date       Ship Mode  \\\n",
      "0          1  CA-2016-152156   11/8/2016  11/11/2016    Second Class   \n",
      "1          2  CA-2016-152156   11/8/2016  11/11/2016    Second Class   \n",
      "2          3  CA-2016-138688   6/12/2016   6/16/2016    Second Class   \n",
      "3          4  US-2015-108966  10/11/2015  10/18/2015  Standard Class   \n",
      "4          5  US-2015-108966  10/11/2015  10/18/2015  Standard Class   \n",
      "...      ...             ...         ...         ...             ...   \n",
      "9989    9990  CA-2014-110422   1/21/2014   1/23/2014    Second Class   \n",
      "9990    9991  CA-2017-121258   2/26/2017    3/3/2017  Standard Class   \n",
      "9991    9992  CA-2017-121258   2/26/2017    3/3/2017  Standard Class   \n",
      "9992    9993  CA-2017-121258   2/26/2017    3/3/2017  Standard Class   \n",
      "9993    9994  CA-2017-119914    5/4/2017    5/9/2017    Second Class   \n",
      "\n",
      "     Customer ID     Customer Name    Segment        Country             City  \\\n",
      "0       CG-12520       Claire Gute   Consumer  United States        Henderson   \n",
      "1       CG-12520       Claire Gute   Consumer  United States        Henderson   \n",
      "2       DV-13045   Darrin Van Huff  Corporate  United States      Los Angeles   \n",
      "3       SO-20335    Sean O'Donnell   Consumer  United States  Fort Lauderdale   \n",
      "4       SO-20335    Sean O'Donnell   Consumer  United States  Fort Lauderdale   \n",
      "...          ...               ...        ...            ...              ...   \n",
      "9989    TB-21400  Tom Boeckenhauer   Consumer  United States            Miami   \n",
      "9990    DB-13060       Dave Brooks   Consumer  United States       Costa Mesa   \n",
      "9991    DB-13060       Dave Brooks   Consumer  United States       Costa Mesa   \n",
      "9992    DB-13060       Dave Brooks   Consumer  United States       Costa Mesa   \n",
      "9993    CC-12220      Chris Cortes   Consumer  United States      Westminster   \n",
      "\n",
      "      ... Postal Code  Region       Product ID         Category Sub-Category  \\\n",
      "0     ...       42420   South  FUR-BO-10001798        Furniture    Bookcases   \n",
      "1     ...       42420   South  FUR-CH-10000454        Furniture       Chairs   \n",
      "2     ...       90036    West  OFF-LA-10000240  Office Supplies       Labels   \n",
      "3     ...       33311   South  FUR-TA-10000577        Furniture       Tables   \n",
      "4     ...       33311   South  OFF-ST-10000760  Office Supplies      Storage   \n",
      "...   ...         ...     ...              ...              ...          ...   \n",
      "9989  ...       33180   South  FUR-FU-10001889        Furniture  Furnishings   \n",
      "9990  ...       92627    West  FUR-FU-10000747        Furniture  Furnishings   \n",
      "9991  ...       92627    West  TEC-PH-10003645       Technology       Phones   \n",
      "9992  ...       92627    West  OFF-PA-10004041  Office Supplies        Paper   \n",
      "9993  ...       92683    West  OFF-AP-10002684  Office Supplies   Appliances   \n",
      "\n",
      "                                           Product Name     Sales  Quantity  \\\n",
      "0                     Bush Somerset Collection Bookcase  261.9600         2   \n",
      "1     Hon Deluxe Fabric Upholstered Stacking Chairs,...  731.9400         3   \n",
      "2     Self-Adhesive Address Labels for Typewriters b...   14.6200         2   \n",
      "3         Bretford CR4500 Series Slim Rectangular Table  957.5775         5   \n",
      "4                        Eldon Fold 'N Roll Cart System   22.3680         2   \n",
      "...                                                 ...       ...       ...   \n",
      "9989                             Ultra Door Pull Handle   25.2480         3   \n",
      "9990  Tenex B1-RE Series Chair Mats for Low Pile Car...   91.9600         2   \n",
      "9991                              Aastra 57i VoIP phone  258.5760         2   \n",
      "9992  It's Hot Message Books with Stickers, 2 3/4\" x 5\"   29.6000         4   \n",
      "9993  Acco 7-Outlet Masterpiece Power Center, Wihtou...  243.1600         2   \n",
      "\n",
      "      Discount    Profit  \n",
      "0         0.00   41.9136  \n",
      "1         0.00  219.5820  \n",
      "2         0.00    6.8714  \n",
      "3         0.45 -383.0310  \n",
      "4         0.20    2.5164  \n",
      "...        ...       ...  \n",
      "9989      0.20    4.1028  \n",
      "9990      0.00   15.6332  \n",
      "9991      0.20   19.3932  \n",
      "9992      0.00   13.3200  \n",
      "9993      0.00   72.9480  \n",
      "\n",
      "[9994 rows x 21 columns]>\n",
      "\n",
      "Type de donnees:\n",
      "Row ID             int64\n",
      "Order ID          object\n",
      "Order Date        object\n",
      "Ship Date         object\n",
      "Ship Mode         object\n",
      "Customer ID       object\n",
      "Customer Name     object\n",
      "Segment           object\n",
      "Country           object\n",
      "City              object\n",
      "State             object\n",
      "Postal Code        int64\n",
      "Region            object\n",
      "Product ID        object\n",
      "Category          object\n",
      "Sub-Category      object\n",
      "Product Name      object\n",
      "Sales            float64\n",
      "Quantity           int64\n",
      "Discount         float64\n",
      "Profit           float64\n",
      "dtype: object\n"
     ]
    }
   ],
   "source": [
    "print(\"Dimenssion:\", df.shape)\n",
    "print(\"\\nApercu des donnees\")\n",
    "print(df.head)\n",
    "print(\"\\nType de donnees:\")\n",
    "print(df.dtypes)"
   ]
  },
  {
   "cell_type": "raw",
   "metadata": {},
   "source": [
    "Analyse des ventes, profit et quantites"
   ]
  },
  {
   "cell_type": "code",
   "execution_count": 45,
   "metadata": {},
   "outputs": [
    {
     "name": "stdout",
     "output_type": "stream",
     "text": [
      "Ventes totales: 2297200.8603000003\n",
      "Benefice totaux: 286397.0217\n",
      "Quantite totales vendu: 2297200.8603000003\n"
     ]
    }
   ],
   "source": [
    "#Vente total, benefice et quantiter vendues\n",
    "print(\"Ventes totales:\", df['Sales'].sum())\n",
    "print(\"Benefice totaux:\", df['Profit'].sum())\n",
    "print(\"Quantite totales vendu:\", df['Sales'].sum())"
   ]
  },
  {
   "cell_type": "code",
   "execution_count": 46,
   "metadata": {},
   "outputs": [
    {
     "name": "stdout",
     "output_type": "stream",
     "text": [
      "                       Sales       Profit  Quantity\n",
      "Category                                           \n",
      "Furniture        741999.7953   18451.2728      8028\n",
      "Office Supplies  719047.0320  122490.8008     22906\n",
      "Technology       836154.0330  145454.9481      6939\n"
     ]
    }
   ],
   "source": [
    "# Ventes, profit, quantites par categorie\n",
    "print(df.groupby('Category')[['Sales','Profit','Quantity']].sum())"
   ]
  },
  {
   "cell_type": "code",
   "execution_count": 48,
   "metadata": {},
   "outputs": [
    {
     "name": "stdout",
     "output_type": "stream",
     "text": [
      "profit par sous cathegorie:\n",
      "Sub-Category\n",
      "Copiers        55617.8249\n",
      "Phones         44515.7306\n",
      "Accessories    41936.6357\n",
      "Paper          34053.5693\n",
      "Binders        30221.7633\n",
      "Chairs         26590.1663\n",
      "Storage        21278.8264\n",
      "Appliances     18138.0054\n",
      "Furnishings    13059.1436\n",
      "Envelopes       6964.1767\n",
      "Art             6527.7870\n",
      "Labels          5546.2540\n",
      "Machines        3384.7569\n",
      "Fasteners        949.5182\n",
      "Supplies       -1189.0995\n",
      "Bookcases      -3472.5560\n",
      "Tables        -17725.4811\n",
      "Name: Profit, dtype: float64\n"
     ]
    }
   ],
   "source": [
    "# Sous categorie la plus rentable et la plus moin rentable\n",
    "print(\"profit par sous cathegorie:\")\n",
    "print(df.groupby('Sub-Category')\n",
    "     ['Profit'].sum().sort_values(ascending=False))"
   ]
  },
  {
   "cell_type": "code",
   "execution_count": 51,
   "metadata": {},
   "outputs": [
    {
     "name": "stdout",
     "output_type": "stream",
     "text": [
      "Les produit les plus vendue:\n",
      "Staple envelope                                              48\n",
      "Staples                                                      46\n",
      "Easy-staple paper                                            46\n",
      "Avery Non-Stick Binders                                      20\n",
      "Staples in misc. colors                                      19\n",
      "Staple remover                                               18\n",
      "KI Adjustable-Height Table                                   18\n",
      "Storex Dura Pro Binders                                      17\n",
      "Staple-based wall hangings                                   16\n",
      "Logitech 910-002974 M325 Wireless Mouse for Web Scrolling    15\n",
      "Name: Product Name, dtype: int64\n"
     ]
    }
   ],
   "source": [
    "#Top 10 des produits les plus vendus\n",
    "print(\"Les produit les plus vendue:\")\n",
    "print(df[\"Product Name\"].value_counts().head(10))"
   ]
  },
  {
   "cell_type": "raw",
   "metadata": {},
   "source": [
    "Analyse par ville et par region"
   ]
  },
  {
   "cell_type": "code",
   "execution_count": 52,
   "metadata": {},
   "outputs": [
    {
     "name": "stdout",
     "output_type": "stream",
     "text": [
      "vente total par ville:\n",
      "City\n",
      "New York City    256368.1610\n",
      "Los Angeles      175851.3410\n",
      "Seattle          119540.7420\n",
      "San Francisco    112669.0920\n",
      "Philadelphia     109077.0130\n",
      "Houston           64504.7604\n",
      "Chicago           48539.5410\n",
      "San Diego         47521.0290\n",
      "Jacksonville      44713.1830\n",
      "Springfield       43054.3420\n",
      "Name: Sales, dtype: float64\n"
     ]
    }
   ],
   "source": [
    "# Total des vente par ville\n",
    "\n",
    "print(\"vente total par ville:\")\n",
    "print(df.groupby('City')['Sales'].sum().sort_values(ascending=False).head(10))"
   ]
  },
  {
   "cell_type": "code",
   "execution_count": 53,
   "metadata": {},
   "outputs": [
    {
     "name": "stdout",
     "output_type": "stream",
     "text": [
      "Profits par ville:\n",
      "City\n",
      "Philadelphia   -13837.7674\n",
      "Houston        -10153.5485\n",
      "San Antonio     -7299.0502\n",
      "Lancaster       -7239.0684\n",
      "Chicago         -6654.5688\n",
      "Burlington      -3622.8772\n",
      "Dallas          -2846.5257\n",
      "Phoenix         -2790.8832\n",
      "Aurora          -2691.7386\n",
      "Jacksonville    -2323.8350\n",
      "Name: Profit, dtype: float64\n"
     ]
    }
   ],
   "source": [
    "#Benefice par ville\n",
    "print(\"Profits par ville:\")\n",
    "print(df.groupby('City')['Profit'].sum().sort_values().head(10))"
   ]
  },
  {
   "cell_type": "code",
   "execution_count": 57,
   "metadata": {},
   "outputs": [
    {
     "name": "stdout",
     "output_type": "stream",
     "text": [
      "Vente et profit par region:\n",
      "               Sales       Profit\n",
      "Region                           \n",
      "West     725457.8245  108418.4489\n",
      "East     678781.2400   91522.7800\n",
      "South    391721.9050   46749.4303\n",
      "Central  501239.8908   39706.3625\n"
     ]
    }
   ],
   "source": [
    "#Vente et profit par region\n",
    "print(\"Vente et profit par region:\")\n",
    "print(df.groupby('Region')[['Sales', 'Profit']].sum().sort_values('Profit',ascending=False))"
   ]
  },
  {
   "cell_type": "raw",
   "metadata": {},
   "source": [
    "Analyse produit et sous cathegorie"
   ]
  },
  {
   "cell_type": "code",
   "execution_count": 59,
   "metadata": {},
   "outputs": [
    {
     "name": "stdout",
     "output_type": "stream",
     "text": [
      "profit par sous cathegorie:\n",
      "Sub-Category\n",
      "Tables        -17725.4811\n",
      "Bookcases      -3472.5560\n",
      "Supplies       -1189.0995\n",
      "Fasteners        949.5182\n",
      "Machines        3384.7569\n",
      "Labels          5546.2540\n",
      "Art             6527.7870\n",
      "Envelopes       6964.1767\n",
      "Furnishings    13059.1436\n",
      "Appliances     18138.0054\n",
      "Storage        21278.8264\n",
      "Chairs         26590.1663\n",
      "Binders        30221.7633\n",
      "Paper          34053.5693\n",
      "Accessories    41936.6357\n",
      "Phones         44515.7306\n",
      "Copiers        55617.8249\n",
      "Name: Profit, dtype: float64\n"
     ]
    }
   ],
   "source": [
    "#Profit par sous cathegorie\n",
    "print(\"profit par sous cathegorie:\")\n",
    "print(df.groupby('Sub-Category')['Profit'].sum().sort_values())"
   ]
  },
  {
   "cell_type": "code",
   "execution_count": 63,
   "metadata": {},
   "outputs": [
    {
     "name": "stdout",
     "output_type": "stream",
     "text": [
      "                                                           Sales       Profit\n",
      "Product Name                                                                 \n",
      "Cubify CubeX 3D Printer Triple Head Print            7999.980000 -3839.990400\n",
      "Cubify CubeX 3D Printer Double Head Print            3699.987667 -2959.990133\n",
      "Cisco TelePresence System EX90 Videoconferencin...  22638.480000 -1811.078400\n",
      "Lexmark MX611dhe Monochrome Laser Printer            4207.475250 -1147.493250\n",
      "Zebra GK420t Direct Thermal/Thermal Transfer Pr...    703.710000  -938.280000\n",
      "Chromcraft Bull-Nose Wood Oval Conference Table...   1983.528000  -575.223120\n",
      "Epson TM-T88V Direct Thermal Printer - Monochro...    606.352500  -528.615000\n",
      "BoxOffice By Design Rectangular and Half-Moon M...    568.750000  -382.812500\n",
      "LG G2                                                1499.970000  -374.992500\n",
      "Brother MFC-9340CDW LED All-In-One Printer, Cop...    341.991000  -319.191600\n"
     ]
    }
   ],
   "source": [
    "#Moyenne des ventes et des profits par produit\n",
    "produits= df.groupby('Product Name')[['Sales','Profit']].mean()\n",
    "print(produits.sort_values(by='Profit').head(10))"
   ]
  },
  {
   "cell_type": "code",
   "execution_count": 67,
   "metadata": {},
   "outputs": [
    {
     "name": "stdout",
     "output_type": "stream",
     "text": [
      "                                                       Sales     Profit  \\\n",
      "Product Name                                                              \n",
      "Eureka Disposable Bags for Sanitaire Vibra Groo...     1.624    -4.4660   \n",
      "Bush Westfield Collection Bookcases, Dark Cherr...    90.882  -190.8522   \n",
      "Euro Pro Shark Stick Mini Vacuum                     170.744  -325.6332   \n",
      "Okidata B401 Printer                                 179.991  -251.9874   \n",
      "Zebra GK420t Direct Thermal/Thermal Transfer Pr...   703.710  -938.2800   \n",
      "GBC Plasticlear Binding Covers                        68.880   -68.4208   \n",
      "Brother MFC-9340CDW LED All-In-One Printer, Cop...   341.991  -319.1916   \n",
      "Epson TM-T88V Direct Thermal Printer - Monochro...  1212.705 -1057.2300   \n",
      "Epson Perfection V600 Photo Scanner                  206.991  -172.4925   \n",
      "GBC VeloBinder Electric Binding Machine              496.018  -411.3320   \n",
      "\n",
      "                                                    Quantity  Ratio_profit  \n",
      "Product Name                                                                \n",
      "Eureka Disposable Bags for Sanitaire Vibra Groo...         2     -2.750000  \n",
      "Bush Westfield Collection Bookcases, Dark Cherr...         3     -2.100000  \n",
      "Euro Pro Shark Stick Mini Vacuum                          11     -1.907143  \n",
      "Okidata B401 Printer                                       3     -1.400000  \n",
      "Zebra GK420t Direct Thermal/Thermal Transfer Pr...         6     -1.333333  \n",
      "GBC Plasticlear Binding Covers                            23     -0.993333  \n",
      "Brother MFC-9340CDW LED All-In-One Printer, Cop...         3     -0.933333  \n",
      "Epson TM-T88V Direct Thermal Printer - Monochro...        10     -0.871795  \n",
      "Epson Perfection V600 Photo Scanner                        3     -0.833333  \n",
      "GBC VeloBinder Electric Binding Machine                   15     -0.829268  \n"
     ]
    }
   ],
   "source": [
    "#Produit qui se vendent beaucoup mais qui sont peu rentables\n",
    "from pandas import options\n",
    "options.display.max_rows = 100 # pour voir plus de ligne si besoin\n",
    "\n",
    "produits= df.groupby('Product Name')[['Sales','Profit','Quantity']].sum()\n",
    "produits['Ratio_profit']= produits['Profit']/produits['Sales']\n",
    "print(produits.sort_values(by='Ratio_profit').head(10))"
   ]
  },
  {
   "cell_type": "raw",
   "metadata": {},
   "source": [
    "Visualisation avec matplotlib et seaborn"
   ]
  },
  {
   "cell_type": "code",
   "execution_count": 68,
   "metadata": {},
   "outputs": [],
   "source": [
    "import matplotlib.pyplot as plt\n",
    "import seaborn as sns\n",
    "\n",
    "#pour les graphe plus joli\n",
    "sns.set(style=\"whitegrid\")\n"
   ]
  },
  {
   "cell_type": "code",
   "execution_count": 74,
   "metadata": {},
   "outputs": [
    {
     "data": {
      "image/png": "[encoded data removed]",
      "text/plain": [
       "<Figure size 576x360 with 1 Axes>"
      ]
     },
     "metadata": {},
     "output_type": "display_data"
    }
   ],
   "source": [
    "#categorie les plus vendus\n",
    "\n",
    "plt.figure(figsize=(8,5))\n",
    "sns.countplot(data=df,x='Category', palette='tab20')\n",
    "plt.title('Nombre de vente par categorie')\n",
    "plt.xlabel('Categorie')\n",
    "plt.ylabel('Nombre de vente')\n",
    "plt.show()"
   ]
  },
  {
   "cell_type": "code",
   "execution_count": 77,
   "metadata": {},
   "outputs": [
    {
     "data": {
      "image/png": "[encoded data removed]",
      "text/plain": [
       "<Figure size 864x432 with 1 Axes>"
      ]
     },
     "metadata": {},
     "output_type": "display_data"
    }
   ],
   "source": [
    "# profit par sous categorie\n",
    "plt.figure(figsize=(12,6))\n",
    "df.groupby('Sub-Category')['Profit'].sum().sort_values().plot(kind='bar',color='skyblue')\n",
    "plt.title('Profit par sous-categorie')\n",
    "plt.xlabel('sous-Categorie')\n",
    "plt.ylabel('profit total')\n",
    "plt.xticks(rotation=45)\n",
    "plt.axhline(0,color='red',linestyle='--')\n",
    "plt.tight_layout()\n",
    "plt.show()"
   ]
  },
  {
   "cell_type": "code",
   "execution_count": 78,
   "metadata": {},
   "outputs": [
    {
     "data": {
      "image/png": "[encoded data removed]",
      "text/plain": [
       "<Figure size 576x360 with 1 Axes>"
      ]
     },
     "metadata": {},
     "output_type": "display_data"
    }
   ],
   "source": [
    "#repartition des vente par region\n",
    "plt.figure(figsize=(8,5))\n",
    "sns.countplot(data=df,x='Region', palette='tab20')\n",
    "plt.title('repartition des vente par region')\n",
    "plt.xlabel('Region')\n",
    "plt.ylabel('Nombre de vente')\n",
    "plt.show()"
   ]
  },
  {
   "cell_type": "code",
   "execution_count": 80,
   "metadata": {},
   "outputs": [
    {
     "data": {
      "image/png": "[encoded data removed]",
      "text/plain": [
       "<Figure size 576x360 with 1 Axes>"
      ]
     },
     "metadata": {},
     "output_type": "display_data"
    }
   ],
   "source": [
    "# Nuage des point: Ventes Vs Benefices\n",
    "plt.figure(figsize=(8,5))\n",
    "sns.scatterplot(data=df,x='Sales',y='Profit',hue='Category', palette='tab20')\n",
    "plt.title('Relation entre les ventes et le profit')\n",
    "plt.xlabel('Vente')\n",
    "plt.ylabel('Profit')\n",
    "plt.show()"
   ]
  },
  {
   "cell_type": "code",
   "execution_count": 87,
   "metadata": {},
   "outputs": [
    {
     "data": {
      "image/png": "[encoded data removed]",
      "text/plain": [
       "<Figure size 432x288 with 2 Axes>"
      ]
     },
     "metadata": {},
     "output_type": "display_data"
    }
   ],
   "source": [
    "# carte thermique des correlations\n",
    "plt.figure(figsize=(6,4))\n",
    "numeric_df=df.select_dtypes(include=['float64','int64'])\n",
    "sns.heatmap(numeric_df.corr() , annot=True, cmap='coolwarm')\n",
    "plt.title('Correlation entre les variable numeriques')\n",
    "plt.tight_layout()\n",
    "plt.show()"
   ]
  },
  {
   "cell_type": "raw",
   "metadata": {},
   "source": [
    "Interpreter les resultats pour aider a la decision"
   ]
  },
  {
   "cell_type": "code",
   "execution_count": 89,
   "metadata": {},
   "outputs": [
    {
     "data": {
      "text/plain": [
       "City\n",
       "New York City    256368.161\n",
       "Los Angeles      175851.341\n",
       "Seattle          119540.742\n",
       "San Francisco    112669.092\n",
       "Philadelphia     109077.013\n",
       "                    ...    \n",
       "Ormond Beach          2.808\n",
       "Pensacola             2.214\n",
       "Jupiter               2.064\n",
       "Elyria                1.824\n",
       "Abilene               1.392\n",
       "Name: Sales, Length: 531, dtype: float64"
      ]
     },
     "execution_count": 89,
     "metadata": {},
     "output_type": "execute_result"
    }
   ],
   "source": [
    "# Meilleur ville enm terme de vente\n",
    "df.groupby('City')['Sales'].sum().sort_values(ascending=False)"
   ]
  },
  {
   "cell_type": "code",
   "execution_count": 90,
   "metadata": {},
   "outputs": [
    {
     "data": {
      "text/plain": [
       "Sub-Category\n",
       "Tables        -17725.4811\n",
       "Bookcases      -3472.5560\n",
       "Supplies       -1189.0995\n",
       "Fasteners        949.5182\n",
       "Machines        3384.7569\n",
       "Labels          5546.2540\n",
       "Art             6527.7870\n",
       "Envelopes       6964.1767\n",
       "Furnishings    13059.1436\n",
       "Appliances     18138.0054\n",
       "Storage        21278.8264\n",
       "Chairs         26590.1663\n",
       "Binders        30221.7633\n",
       "Paper          34053.5693\n",
       "Accessories    41936.6357\n",
       "Phones         44515.7306\n",
       "Copiers        55617.8249\n",
       "Name: Profit, dtype: float64"
      ]
     },
     "execution_count": 90,
     "metadata": {},
     "output_type": "execute_result"
    }
   ],
   "source": [
    "#Sous-categorie non rentable\n",
    "df.groupby('Sub-Category')['Profit'].sum().sort_values()"
   ]
  },
  {
   "cell_type": "code",
   "execution_count": 91,
   "metadata": {},
   "outputs": [
    {
     "data": {
      "text/html": [
       "<div>\n",
       "<style scoped>\n",
       "    .dataframe tbody tr th:only-of-type {\n",
       "        vertical-align: middle;\n",
       "    }\n",
       "\n",
       "    .dataframe tbody tr th {\n",
       "        vertical-align: top;\n",
       "    }\n",
       "\n",
       "    .dataframe thead th {\n",
       "        text-align: right;\n",
       "    }\n",
       "</style>\n",
       "<table border=\"1\" class=\"dataframe\">\n",
       "  <thead>\n",
       "    <tr style=\"text-align: right;\">\n",
       "      <th></th>\n",
       "      <th>Sales</th>\n",
       "      <th>Profit</th>\n",
       "    </tr>\n",
       "  </thead>\n",
       "  <tbody>\n",
       "    <tr>\n",
       "      <th>Sales</th>\n",
       "      <td>1.000000</td>\n",
       "      <td>0.479064</td>\n",
       "    </tr>\n",
       "    <tr>\n",
       "      <th>Profit</th>\n",
       "      <td>0.479064</td>\n",
       "      <td>1.000000</td>\n",
       "    </tr>\n",
       "  </tbody>\n",
       "</table>\n",
       "</div>"
      ],
      "text/plain": [
       "           Sales    Profit\n",
       "Sales   1.000000  0.479064\n",
       "Profit  0.479064  1.000000"
      ]
     },
     "execution_count": 91,
     "metadata": {},
     "output_type": "execute_result"
    }
   ],
   "source": [
    "#Correlation entre vente et profits\n",
    "df[['Sales','Profit']].corr()"
   ]
  }
 ],
 "metadata": {
  "kernelspec": {
   "display_name": "Python 3 (ipykernel)",
   "language": "python",
   "name": "python3"
  },
  "language_info": {
   "codemirror_mode": {
    "name": "ipython",
    "version": 3
   },
   "file_extension": ".py",
   "mimetype": "text/x-python",
   "name": "python",
   "nbconvert_exporter": "python",
   "pygments_lexer": "ipython3",
   "version": "3.9.12"
  }
 },
 "nbformat": 4,
 "nbformat_minor": 2
}
